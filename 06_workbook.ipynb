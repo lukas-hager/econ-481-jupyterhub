{
 "cells": [
  {
   "cell_type": "markdown",
   "id": "1f82584b-6b34-4d52-ab66-d31db3c5f302",
   "metadata": {},
   "source": [
    "# Lecture 6.1\n",
    "___"
   ]
  },
  {
   "cell_type": "markdown",
   "id": "b7c0bd04-ac30-4978-b71f-4490894955cc",
   "metadata": {},
   "source": [
    "## Exercise: Input Sanitization\n",
    "\n",
    "Write a method for our class to ensure that `X` and `y` make sense dimensionally before computing `beta`"
   ]
  },
  {
   "cell_type": "code",
   "execution_count": null,
   "id": "a94b3c24-2dc4-4cd7-8e18-c7b55d3f130d",
   "metadata": {},
   "outputs": [],
   "source": [
    "import numpy as np\n",
    "\n",
    "class LinearRegression:\n",
    "    def __init__(self, name):\n",
    "        self.name = name\n",
    "    def fit(self, X: np.array, y: np.array):\n",
    "        \"\"\"Fit a linear regression\"\"\"\n",
    "        self.X = X\n",
    "        self.y = y\n",
    "        self.beta = np.linalg.inv(self.X.T @ self.X) @ self.X.T @ self.y"
   ]
  },
  {
   "cell_type": "code",
   "execution_count": null,
   "id": "8f89741e-fd29-483b-be1f-2e3213a8d462",
   "metadata": {},
   "outputs": [],
   "source": [
    "rng = np.random.default_rng(seed=481)\n",
    "X = rng.standard_normal(size=(1000,5))\n",
    "epsilon = rng.standard_normal(size=(1000,1))\n",
    "y = X @ np.array([3., 5., -2, 6., 1.5]) + epsilon\n",
    "\n",
    "my_obj = LinearRegression('panel_reg')\n",
    "my_obj.fit(X, y)\n",
    "my_obj.beta"
   ]
  },
  {
   "cell_type": "markdown",
   "id": "e7a538ea-965a-4798-a658-f2bbf58aa940",
   "metadata": {},
   "source": [
    "## Exercise: Plot\n",
    "\n",
    "Please add a plotting method to our class that shows actual data against fitted data. Include in the title the $R^2$ value, calculated as \n",
    "\n",
    "$$\n",
    "R^2 = 1 - \\frac{\\sum_{i=1}^n(y_i-\\hat{y}_i)^2}{\\sum_{i=1}^n(y_i - \\overline{y})^2}\n",
    "$$\n",
    "\n",
    "where $\\overline{y}$ is the sample mean of the $y_i$ values."
   ]
  },
  {
   "cell_type": "markdown",
   "id": "2c7d5787-8d1a-480a-ab11-001f5faa3ebf",
   "metadata": {},
   "source": [
    "## Exercise: Test Ideas\n",
    "\n",
    "Recall our linear and ridge regression modules. Think of what kind of tests we could run to make sure that we get correct results. In this case, think about \"ground truth\" results -- what are some datasets we could pass our code where we \"know\" the results?"
   ]
  }
 ],
 "metadata": {
  "kernelspec": {
   "display_name": "Python 3 (ipykernel)",
   "language": "python",
   "name": "python3"
  },
  "language_info": {
   "codemirror_mode": {
    "name": "ipython",
    "version": 3
   },
   "file_extension": ".py",
   "mimetype": "text/x-python",
   "name": "python",
   "nbconvert_exporter": "python",
   "pygments_lexer": "ipython3",
   "version": "3.10.13"
  }
 },
 "nbformat": 4,
 "nbformat_minor": 5
}
