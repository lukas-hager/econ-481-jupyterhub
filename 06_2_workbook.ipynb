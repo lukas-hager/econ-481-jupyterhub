{
 "cells": [
  {
   "cell_type": "markdown",
   "id": "4fc4b054-efd5-4266-92a9-6158b5341e36",
   "metadata": {},
   "source": [
    "# Lecture 6.1\n",
    "___"
   ]
  },
  {
   "cell_type": "markdown",
   "id": "6878d0cb-6542-4728-899a-980c1b8a8024",
   "metadata": {},
   "source": [
    "## Exercise: Testing a `DataFrame`\n",
    "\n",
    "Look at the documentation for [pd.testing.assert_frame_equal](https://pandas.pydata.org/docs/reference/api/pandas.testing.assert_frame_equal.html) and use it to write a unit test for our `utils.summary` method."
   ]
  },
  {
   "cell_type": "code",
   "execution_count": null,
   "id": "d58aab35-e109-427b-807b-a9ac3720398c",
   "metadata": {},
   "outputs": [],
   "source": [
    "def summary(**kwargs):\n",
    "    \"\"\"Produce a regression table\"\"\"\n",
    "    return pd.DataFrame(kwargs)"
   ]
  }
 ],
 "metadata": {
  "kernelspec": {
   "display_name": "Python 3 (ipykernel)",
   "language": "python",
   "name": "python3"
  },
  "language_info": {
   "codemirror_mode": {
    "name": "ipython",
    "version": 3
   },
   "file_extension": ".py",
   "mimetype": "text/x-python",
   "name": "python",
   "nbconvert_exporter": "python",
   "pygments_lexer": "ipython3",
   "version": "3.10.13"
  }
 },
 "nbformat": 4,
 "nbformat_minor": 5
}
