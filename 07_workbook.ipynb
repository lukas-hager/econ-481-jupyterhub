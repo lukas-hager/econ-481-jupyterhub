{
 "cells": [
  {
   "cell_type": "markdown",
   "id": "bf138b64-48a9-401f-960a-d72ad70fe579",
   "metadata": {},
   "source": [
    "# Lecture 7\n",
    "___"
   ]
  },
  {
   "cell_type": "code",
   "execution_count": null,
   "id": "747c248e-e792-4640-9bf3-1e8c63cfefcb",
   "metadata": {},
   "outputs": [],
   "source": [
    "import pandas as pd\n",
    "from sqlalchemy import create_engine\n",
    "from sqlalchemy.orm import Session\n",
    "\n",
    "path = 'auctions.db'\n",
    "\n",
    "class DataBase:\n",
    "    def __init__(self, loc: str, db_type: str = \"sqlite\") -> None:\n",
    "        \"\"\"Initialize the class and connect to the database\"\"\"\n",
    "        self.loc = loc\n",
    "        self.db_type = db_type\n",
    "        self.engine = create_engine(f'{self.db_type}:///{self.loc}')\n",
    "    def query(self, q: str) -> pd.DataFrame:\n",
    "        \"\"\"Run a query against the database and return a DataFrame\"\"\"\n",
    "        with Session(self.engine) as session:\n",
    "            df = pd.read_sql(q, session.bind)\n",
    "        return(df)\n",
    "\n",
    "auctions = DataBase(path)"
   ]
  },
  {
   "cell_type": "markdown",
   "id": "260edd92-b014-4f79-a107-95d7a9ae4f44",
   "metadata": {},
   "source": [
    "## Exercise: Joins\n",
    "\n",
    "For each of the join types supported in `sqlite` (left, inner, cross), perform the join on the two tables and report the number of observations in the resulting join."
   ]
  },
  {
   "cell_type": "markdown",
   "id": "cc748546-692b-49ee-b321-d27d9ef8b837",
   "metadata": {},
   "source": [
    "## Exercise: `MIN` and `MAX`\n",
    "\n",
    "In SQL, `MIN` and `MAX` are aggregating functions that work the same way as `COUNT`. Use them to create a table of the number of bids each bidder submitted for each item, as well as their largest and smallest bid."
   ]
  },
  {
   "cell_type": "markdown",
   "id": "dc67c928-2311-44e8-a98e-88b85d3bcc83",
   "metadata": {},
   "source": [
    "## Exercise: Bidder Participation\n",
    "\n",
    "In our sample, how many bidders participate in multiple auctions? And how many auctions do they participate in?"
   ]
  },
  {
   "cell_type": "markdown",
   "id": "ddce7aab-5673-492e-97eb-bbcc74495a33",
   "metadata": {},
   "source": [
    "## Exercise: Temporary Tables\n",
    "\n",
    "For each bid, express its time as relative to when the auction ended (`endtime`). That means that if an auction was 10 hours long (as measured by `endtime` - `starttime`) and a bid was placed an hour before the auction ended, it would have a normalized timestamp of .1.  Plot this distribution as a histogram. \n",
    "\n",
    "Hint: to compute the difference in time between two dates, use `julianday(time1)-julianday(time2)`."
   ]
  }
 ],
 "metadata": {
  "kernelspec": {
   "display_name": "Python 3 (ipykernel)",
   "language": "python",
   "name": "python3"
  },
  "language_info": {
   "codemirror_mode": {
    "name": "ipython",
    "version": 3
   },
   "file_extension": ".py",
   "mimetype": "text/x-python",
   "name": "python",
   "nbconvert_exporter": "python",
   "pygments_lexer": "ipython3",
   "version": "3.10.13"
  }
 },
 "nbformat": 4,
 "nbformat_minor": 5
}
