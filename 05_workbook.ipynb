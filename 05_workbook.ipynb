{
 "cells": [
  {
   "cell_type": "markdown",
   "id": "724c2bd7-0b0f-4a72-8614-ebf64f8f854c",
   "metadata": {},
   "source": [
    "# Lecture 5\n",
    "___"
   ]
  },
  {
   "cell_type": "markdown",
   "id": "90ac7fd7-bfa8-4a04-80ce-7aac21d46b01",
   "metadata": {},
   "source": [
    "## Exercise: Getting Table Contents\n",
    "\n",
    "Use a similar approach to get the contents of the table using `BeautifulSoup`. Hint: the HTML tag for the body is `tbody`, the tag for rows is `tr`, and the tag for elements is `td`."
   ]
  },
  {
   "cell_type": "code",
   "execution_count": null,
   "id": "fc036b01-665e-4055-8193-c3004a9733b1",
   "metadata": {},
   "outputs": [],
   "source": [
    "import requests\n",
    "from bs4 import BeautifulSoup\n",
    "\n",
    "req_obj = requests.get(\n",
    "    'https://lukashager.netlify.app/econ-481/data/yahoo_apple_data.html'\n",
    ")"
   ]
  },
  {
   "cell_type": "code",
   "execution_count": null,
   "id": "4ee31069-64aa-40fe-8db2-19340e0b9031",
   "metadata": {},
   "outputs": [],
   "source": [
    "soup = BeautifulSoup(req_obj.text)"
   ]
  },
  {
   "cell_type": "markdown",
   "id": "1523a3a5-6ce3-47d1-987f-e7a5a3f2518f",
   "metadata": {},
   "source": [
    "## Exercise: Olympus\n",
    "\n",
    "Find the POST request that occurs [on this page](http://olympus.realpython.org/login) when you log in using username \"zeus\" and password \"ThunderDude\". Remember to use Chrome and use CTRL+SHIFT+C."
   ]
  },
  {
   "cell_type": "markdown",
   "id": "df0b7f0c-2b98-41cd-a9e7-adadc84c391f",
   "metadata": {},
   "source": [
    "## Exercise: Extracting Links\n",
    "\n",
    "Use `BeautifulSoup` to extract all the links from the logged-in Olympus page.\n"
   ]
  },
  {
   "cell_type": "markdown",
   "id": "9d5196fc-572e-4f41-ae45-df2a4f058e05",
   "metadata": {},
   "source": [
    "## Exercise: Strategy\n",
    "\n",
    "Come up with the strategy we should use to accomplish this task. Don't write any code, but figure out what pages would be helpful, and think about what sort of code we'll need to write."
   ]
  }
 ],
 "metadata": {
  "kernelspec": {
   "display_name": "Python 3 (ipykernel)",
   "language": "python",
   "name": "python3"
  },
  "language_info": {
   "codemirror_mode": {
    "name": "ipython",
    "version": 3
   },
   "file_extension": ".py",
   "mimetype": "text/x-python",
   "name": "python",
   "nbconvert_exporter": "python",
   "pygments_lexer": "ipython3",
   "version": "3.10.13"
  }
 },
 "nbformat": 4,
 "nbformat_minor": 5
}
